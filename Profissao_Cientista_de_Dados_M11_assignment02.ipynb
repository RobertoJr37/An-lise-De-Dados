{
 "cells": [
  {
   "cell_type": "markdown",
   "metadata": {
    "id": "pSfPJsnipXkq"
   },
   "source": [
    "## Árvores de regressão - exercícios 02\n",
    "\n",
    "Este exercício será uma continuação do anterior, mesma base, mesmas variáveis - vamos tentar buscar a 'melhor árvore'.\n"
   ]
  },
  {
   "cell_type": "markdown",
   "metadata": {
    "id": "CL07SfYxpbvw"
   },
   "source": [
    "*Atenção - Utilizar a base de dados em anexo que é a mesma base que utilizamos na atividade anterior! A base Boston, assim como para a primeira atividade foi descontinuada e não deve ser utilizada*"
   ]
  },
  {
   "cell_type": "code",
   "execution_count": 1,
   "metadata": {
    "id": "i91q0awTpXlm"
   },
   "outputs": [],
   "source": [
    "import pandas as pd\n",
    "\n",
    "import seaborn as sns\n",
    "\n",
    "from sklearn import datasets\n",
    "from sklearn.tree import DecisionTreeRegressor\n",
    "from sklearn import tree\n",
    "from sklearn.model_selection import train_test_split\n",
    "from sklearn.metrics import mean_squared_error\n",
    "import matplotlib.pyplot as plt\n"
   ]
  },
  {
   "cell_type": "markdown",
   "metadata": {
    "id": "0rw9pJC-pXlx"
   },
   "source": [
    "### 1. Execute os passos do exercício anterior, até que você tenha uma árvore de regressão predizendo o valor do imóvel na base de treinamento."
   ]
  },
  {
   "cell_type": "code",
   "execution_count": 3,
   "metadata": {
    "id": "fqWgajp2pXly"
   },
   "outputs": [
    {
     "name": "stdout",
     "output_type": "stream",
     "text": [
      "Erro Quadrático Médio - Árvore Profundidade 8 (Treinamento): 3253976845.988395\n",
      "Erro Quadrático Médio - Árvore Profundidade 8 (Teste): 3903180820.8702917\n",
      "Erro Quadrático Médio - Árvore Profundidade 2 (Treinamento): 6710572662.339577\n",
      "Erro Quadrático Médio - Árvore Profundidade 2 (Teste): 6893607949.701682\n"
     ]
    }
   ],
   "source": [
    "# Carregar o dataset (supondo que você já tem o arquivo e o dataframe)\n",
    "data = pd.read_csv('housing.csv')\n",
    "\n",
    "# Evitar o uso de inplace=True com chained assignment\n",
    "data['total_bedrooms'] = data['total_bedrooms'].fillna(data['total_bedrooms'].mean())\n",
    "\n",
    "# Converter variáveis categóricas em dummies\n",
    "data = pd.get_dummies(data)\n",
    "\n",
    "# Definir as features e a variável alvo (target)\n",
    "X = data.drop('median_house_value', axis=1)\n",
    "y = data['median_house_value']\n",
    "\n",
    "# Divisão treino e teste\n",
    "X_train, X_test, y_train, y_test = train_test_split(X, y, test_size=0.2, random_state=42)\n",
    "\n",
    "# Treinar árvore de decisão com profundidade 8\n",
    "tree_depth_8 = DecisionTreeRegressor(max_depth=8, random_state=42)\n",
    "tree_depth_8.fit(X_train, y_train)\n",
    "\n",
    "# Treinar árvore de decisão com profundidade 2\n",
    "tree_depth_2 = DecisionTreeRegressor(max_depth=2, random_state=42)\n",
    "tree_depth_2.fit(X_train, y_train)\n",
    "\n",
    "# Avaliar o desempenho no conjunto de treinamento\n",
    "y_train_pred_8 = tree_depth_8.predict(X_train)\n",
    "y_test_pred_8 = tree_depth_8.predict(X_test)\n",
    "\n",
    "y_train_pred_2 = tree_depth_2.predict(X_train)\n",
    "y_test_pred_2 = tree_depth_2.predict(X_test)\n",
    "\n",
    "# Calcular o MSE\n",
    "mse_train_8 = mean_squared_error(y_train, y_train_pred_8)\n",
    "mse_test_8 = mean_squared_error(y_test, y_test_pred_8)\n",
    "\n",
    "mse_train_2 = mean_squared_error(y_train, y_train_pred_2)\n",
    "mse_test_2 = mean_squared_error(y_test, y_test_pred_2)\n",
    "\n",
    "# Exibir os resultados\n",
    "print(f\"Erro Quadrático Médio - Árvore Profundidade 8 (Treinamento): {mse_train_8}\")\n",
    "print(f\"Erro Quadrático Médio - Árvore Profundidade 8 (Teste): {mse_test_8}\")\n",
    "\n",
    "print(f\"Erro Quadrático Médio - Árvore Profundidade 2 (Treinamento): {mse_train_2}\")\n",
    "print(f\"Erro Quadrático Médio - Árvore Profundidade 2 (Teste): {mse_test_2}\")\n"
   ]
  },
  {
   "cell_type": "markdown",
   "metadata": {
    "id": "s-dQl0cUpXl0"
   },
   "source": [
    "### 2.  Calcule o caminho indicado pelos CCP-alfas dessa árvore."
   ]
  },
  {
   "cell_type": "code",
   "execution_count": 5,
   "metadata": {
    "id": "9p5-aB1ypXl3",
    "scrolled": true
   },
   "outputs": [
    {
     "name": "stdout",
     "output_type": "stream",
     "text": [
      "CCP-alphas: [0.00000000e+00 2.52335571e-05 3.02810078e-05 ... 7.44333012e+08\n",
      " 1.67533461e+09 4.23754184e+09]\n",
      "Impurities: [0.00000000e+00 5.04671141e-05 8.07481219e-05 ... 7.45490567e+09\n",
      " 9.13024028e+09 1.33677821e+10]\n"
     ]
    },
    {
     "data": {
      "image/png": "[encoded data removed]",
      "text/plain": [
       "<Figure size 1000x600 with 1 Axes>"
      ]
     },
     "metadata": {},
     "output_type": "display_data"
    }
   ],
   "source": [
    "# Treinando a árvore de regressão\n",
    "tree_reg = DecisionTreeRegressor(random_state=42)\n",
    "tree_reg.fit(X_train, y_train)\n",
    "\n",
    "# Obter o caminho da poda com CCP-alpha\n",
    "path = tree_reg.cost_complexity_pruning_path(X_train, y_train)\n",
    "ccp_alphas, impurities = path.ccp_alphas, path.impurities\n",
    "\n",
    "# Exibir os valores de CCP-alphas e impurezas\n",
    "print(\"CCP-alphas:\", ccp_alphas)\n",
    "print(\"Impurities:\", impurities)\n",
    "\n",
    "# Plotar CCP-alphas vs impureza\n",
    "plt.figure(figsize=(10, 6))\n",
    "plt.plot(ccp_alphas, impurities, marker='o', drawstyle=\"steps-post\")\n",
    "plt.xlabel('CCP-alpha')\n",
    "plt.ylabel('Impurity (Erro Total)')\n",
    "plt.title('CCP-alpha vs Impurity')\n",
    "plt.show()"
   ]
  },
  {
   "cell_type": "markdown",
   "metadata": {
    "id": "E3ympg2vpXl6"
   },
   "source": [
    "### 3. Para cada valor de alpha obtido no item 2, treine uma árvore com o respectivo alfa, e guarde essa árvore em uma lista."
   ]
  },
  {
   "cell_type": "code",
   "execution_count": 7,
   "metadata": {
    "id": "miumNbKtpXl7"
   },
   "outputs": [
    {
     "name": "stdout",
     "output_type": "stream",
     "text": [
      "Valores de CCP-alphas: [0.00000000e+00 2.52335571e-05 3.02810078e-05 ... 7.44333012e+08\n",
      " 1.67533461e+09 4.23754184e+09]\n",
      "Treinando árvore 1 com CCP-alpha: 0.00000\n"
     ]
    },
    {
     "ename": "KeyboardInterrupt",
     "evalue": "",
     "output_type": "error",
     "traceback": [
      "\u001b[1;31m---------------------------------------------------------------------------\u001b[0m",
      "\u001b[1;31mKeyboardInterrupt\u001b[0m                         Traceback (most recent call last)",
      "Cell \u001b[1;32mIn[7], line 17\u001b[0m\n\u001b[0;32m     15\u001b[0m \u001b[38;5;28;01mfor\u001b[39;00m i, ccp_alpha \u001b[38;5;129;01min\u001b[39;00m \u001b[38;5;28menumerate\u001b[39m(ccp_alphas):\n\u001b[0;32m     16\u001b[0m     tree \u001b[38;5;241m=\u001b[39m DecisionTreeRegressor(random_state\u001b[38;5;241m=\u001b[39m\u001b[38;5;241m42\u001b[39m, ccp_alpha\u001b[38;5;241m=\u001b[39mccp_alpha)\n\u001b[1;32m---> 17\u001b[0m     tree\u001b[38;5;241m.\u001b[39mfit(X_train, y_train)\n\u001b[0;32m     18\u001b[0m     trees\u001b[38;5;241m.\u001b[39mappend(tree)\n\u001b[0;32m     20\u001b[0m     \u001b[38;5;66;03m# Imprimir a cada 10 árvores treinadas\u001b[39;00m\n",
      "File \u001b[1;32m~\\anaconda3\\Lib\\site-packages\\sklearn\\base.py:1473\u001b[0m, in \u001b[0;36m_fit_context.<locals>.decorator.<locals>.wrapper\u001b[1;34m(estimator, *args, **kwargs)\u001b[0m\n\u001b[0;32m   1466\u001b[0m     estimator\u001b[38;5;241m.\u001b[39m_validate_params()\n\u001b[0;32m   1468\u001b[0m \u001b[38;5;28;01mwith\u001b[39;00m config_context(\n\u001b[0;32m   1469\u001b[0m     skip_parameter_validation\u001b[38;5;241m=\u001b[39m(\n\u001b[0;32m   1470\u001b[0m         prefer_skip_nested_validation \u001b[38;5;129;01mor\u001b[39;00m global_skip_validation\n\u001b[0;32m   1471\u001b[0m     )\n\u001b[0;32m   1472\u001b[0m ):\n\u001b[1;32m-> 1473\u001b[0m     \u001b[38;5;28;01mreturn\u001b[39;00m fit_method(estimator, \u001b[38;5;241m*\u001b[39margs, \u001b[38;5;241m*\u001b[39m\u001b[38;5;241m*\u001b[39mkwargs)\n",
      "File \u001b[1;32m~\\anaconda3\\Lib\\site-packages\\sklearn\\tree\\_classes.py:1377\u001b[0m, in \u001b[0;36mDecisionTreeRegressor.fit\u001b[1;34m(self, X, y, sample_weight, check_input)\u001b[0m\n\u001b[0;32m   1347\u001b[0m \u001b[38;5;129m@_fit_context\u001b[39m(prefer_skip_nested_validation\u001b[38;5;241m=\u001b[39m\u001b[38;5;28;01mTrue\u001b[39;00m)\n\u001b[0;32m   1348\u001b[0m \u001b[38;5;28;01mdef\u001b[39;00m \u001b[38;5;21mfit\u001b[39m(\u001b[38;5;28mself\u001b[39m, X, y, sample_weight\u001b[38;5;241m=\u001b[39m\u001b[38;5;28;01mNone\u001b[39;00m, check_input\u001b[38;5;241m=\u001b[39m\u001b[38;5;28;01mTrue\u001b[39;00m):\n\u001b[0;32m   1349\u001b[0m \u001b[38;5;250m    \u001b[39m\u001b[38;5;124;03m\"\"\"Build a decision tree regressor from the training set (X, y).\u001b[39;00m\n\u001b[0;32m   1350\u001b[0m \n\u001b[0;32m   1351\u001b[0m \u001b[38;5;124;03m    Parameters\u001b[39;00m\n\u001b[1;32m   (...)\u001b[0m\n\u001b[0;32m   1374\u001b[0m \u001b[38;5;124;03m        Fitted estimator.\u001b[39;00m\n\u001b[0;32m   1375\u001b[0m \u001b[38;5;124;03m    \"\"\"\u001b[39;00m\n\u001b[1;32m-> 1377\u001b[0m     \u001b[38;5;28msuper\u001b[39m()\u001b[38;5;241m.\u001b[39m_fit(\n\u001b[0;32m   1378\u001b[0m         X,\n\u001b[0;32m   1379\u001b[0m         y,\n\u001b[0;32m   1380\u001b[0m         sample_weight\u001b[38;5;241m=\u001b[39msample_weight,\n\u001b[0;32m   1381\u001b[0m         check_input\u001b[38;5;241m=\u001b[39mcheck_input,\n\u001b[0;32m   1382\u001b[0m     )\n\u001b[0;32m   1383\u001b[0m     \u001b[38;5;28;01mreturn\u001b[39;00m \u001b[38;5;28mself\u001b[39m\n",
      "File \u001b[1;32m~\\anaconda3\\Lib\\site-packages\\sklearn\\tree\\_classes.py:472\u001b[0m, in \u001b[0;36mBaseDecisionTree._fit\u001b[1;34m(self, X, y, sample_weight, check_input, missing_values_in_feature_mask)\u001b[0m\n\u001b[0;32m    461\u001b[0m \u001b[38;5;28;01melse\u001b[39;00m:\n\u001b[0;32m    462\u001b[0m     builder \u001b[38;5;241m=\u001b[39m BestFirstTreeBuilder(\n\u001b[0;32m    463\u001b[0m         splitter,\n\u001b[0;32m    464\u001b[0m         min_samples_split,\n\u001b[1;32m   (...)\u001b[0m\n\u001b[0;32m    469\u001b[0m         \u001b[38;5;28mself\u001b[39m\u001b[38;5;241m.\u001b[39mmin_impurity_decrease,\n\u001b[0;32m    470\u001b[0m     )\n\u001b[1;32m--> 472\u001b[0m builder\u001b[38;5;241m.\u001b[39mbuild(\u001b[38;5;28mself\u001b[39m\u001b[38;5;241m.\u001b[39mtree_, X, y, sample_weight, missing_values_in_feature_mask)\n\u001b[0;32m    474\u001b[0m \u001b[38;5;28;01mif\u001b[39;00m \u001b[38;5;28mself\u001b[39m\u001b[38;5;241m.\u001b[39mn_outputs_ \u001b[38;5;241m==\u001b[39m \u001b[38;5;241m1\u001b[39m \u001b[38;5;129;01mand\u001b[39;00m is_classifier(\u001b[38;5;28mself\u001b[39m):\n\u001b[0;32m    475\u001b[0m     \u001b[38;5;28mself\u001b[39m\u001b[38;5;241m.\u001b[39mn_classes_ \u001b[38;5;241m=\u001b[39m \u001b[38;5;28mself\u001b[39m\u001b[38;5;241m.\u001b[39mn_classes_[\u001b[38;5;241m0\u001b[39m]\n",
      "\u001b[1;31mKeyboardInterrupt\u001b[0m: "
     ]
    }
   ],
   "source": [
    "\n",
    "from sklearn.tree import DecisionTreeRegressor\n",
    "\n",
    "\n",
    "# Supondo que ccp_alphas foi obtido previamente\n",
    "# Lista para armazenar as árvores treinadas\n",
    "trees = []\n",
    "\n",
    "# Verifique se ccp_alphas está definido e não está vazio\n",
    "if 'ccp_alphas' in locals() and len(ccp_alphas) > 0:\n",
    "    print(\"Valores de CCP-alphas:\", ccp_alphas)  # Exibir os valores\n",
    "else:\n",
    "    print(\"ccp_alphas não está definido ou está vazio.\")\n",
    "\n",
    "# Para cada valor de ccp_alpha, treinar uma nova árvore e adicioná-la à lista\n",
    "for i, ccp_alpha in enumerate(ccp_alphas):\n",
    "    tree = DecisionTreeRegressor(random_state=42, ccp_alpha=ccp_alpha)\n",
    "    tree.fit(X_train, y_train)\n",
    "    trees.append(tree)\n",
    "\n",
    "    # Imprimir a cada 10 árvores treinadas\n",
    "    if i % 1000 == 0:  # Ajuste o intervalo conforme necessário\n",
    "        print(f\"Treinando árvore {i + 1} com CCP-alpha: {ccp_alpha:.5f}\")\n",
    "\n",
    "# Exibir quantas árvores foram treinadas após o loop\n",
    "print(f\"Número total de árvores treinadas: {len(trees)}\")\n",
    "\n"
   ]
  },
  {
   "cell_type": "markdown",
   "metadata": {
    "id": "a0JWQ2oNpXl8"
   },
   "source": [
    "### 4. Para cada árvore na lista, calcule o MSE da árvore."
   ]
  },
  {
   "cell_type": "code",
   "execution_count": null,
   "metadata": {
    "id": "L5bklbfCpXl9"
   },
   "outputs": [
    {
     "name": "stdout",
     "output_type": "stream",
     "text": [
      "CCP-alphas: [0.00000000e+00 2.52335571e-05 3.02810078e-05 ... 7.44333012e+08\n",
      " 1.67533461e+09 4.23754184e+09]\n",
      "Impurities: [0.00000000e+00 5.04671141e-05 8.07481219e-05 ... 7.45490567e+09\n",
      " 9.13024028e+09 1.33677821e+10]\n"
     ]
    }
   ],
   "source": [
    "from sklearn.tree import DecisionTreeRegressor\n",
    "from sklearn.metrics import mean_squared_error\n",
    "import matplotlib.pyplot as plt\n",
    "\n",
    "# Treinando a árvore de regressão inicial\n",
    "tree_reg = DecisionTreeRegressor(random_state=42)\n",
    "tree_reg.fit(X_train, y_train)\n",
    "\n",
    "# Obter o caminho da poda com CCP-alpha\n",
    "path = tree_reg.cost_complexity_pruning_path(X_train, y_train)\n",
    "ccp_alphas, impurities = path.ccp_alphas, path.impurities\n",
    "\n",
    "# Verificando se ccp_alphas e impurities não estão vazios\n",
    "print(\"CCP-alphas:\", ccp_alphas)\n",
    "print(\"Impurities:\", impurities)\n",
    "\n",
    "# Lista para armazenar as árvores treinadas\n",
    "trees = []\n",
    "\n",
    "# Para cada valor de ccp_alpha, treinar uma nova árvore e adicioná-la à lista\n",
    "for ccp_alpha in ccp_alphas:\n",
    "    tree = DecisionTreeRegressor(random_state=42, ccp_alpha=ccp_alpha)\n",
    "    tree.fit(X_train, y_train)\n",
    "    trees.append(tree)\n",
    "\n",
    "# Verifique quantas árvores foram treinadas\n",
    "print(\"Número de árvores treinadas:\", len(trees))\n",
    "\n",
    "# Listas para armazenar os MSEs\n",
    "train_mse = []\n",
    "test_mse = []\n",
    "\n",
    "# Calcular o MSE de cada árvore na lista\n",
    "for tree in trees:\n",
    "    # Previsões no conjunto de treinamento\n",
    "    y_train_pred = tree.predict(X_train)\n",
    "    # Previsões no conjunto de teste\n",
    "    y_test_pred = tree.predict(X_test)\n",
    "    \n",
    "    # Calcular MSE no conjunto de treinamento e teste\n",
    "    train_mse.append(mean_squared_error(y_train, y_train_pred))\n",
    "    test_mse.append(mean_squared_error(y_test, y_test_pred))\n",
    "\n",
    "# Exibir os MSEs para comparação\n",
    "for i, ccp_alpha in enumerate(ccp_alphas):\n",
    "    print(f\"CCP-alpha: {ccp_alpha:.5f} - MSE (Treinamento): {train_mse[i]:.5f}, MSE (Teste): {test_mse[i]:.5f}\")\n"
   ]
  },
  {
   "cell_type": "markdown",
   "metadata": {
    "id": "tL0aolqkpXl9"
   },
   "source": [
    "### 5. Monte um gráfico do MSE pelo alpha, escolha um valor de alpha perto do ponto de mínimo do MSE"
   ]
  },
  {
   "cell_type": "code",
   "execution_count": null,
   "metadata": {
    "id": "06zkHy8FpXl-"
   },
   "outputs": [],
   "source": []
  },
  {
   "cell_type": "markdown",
   "metadata": {
    "id": "kHmscPlepXl_"
   },
   "source": [
    "### 6. Calcule o R-quadrado dessa árvore encontrada no item acima"
   ]
  },
  {
   "cell_type": "code",
   "execution_count": null,
   "metadata": {
    "id": "YB8wJkIwpXmA"
   },
   "outputs": [],
   "source": []
  },
  {
   "cell_type": "markdown",
   "metadata": {
    "id": "C7Q2N0zUpXmA"
   },
   "source": [
    "### 7. Visualize esta árvore."
   ]
  },
  {
   "cell_type": "code",
   "execution_count": null,
   "metadata": {
    "id": "hK-ymFkmpXmB"
   },
   "outputs": [],
   "source": []
  }
 ],
 "metadata": {
  "colab": {
   "provenance": []
  },
  "kernelspec": {
   "display_name": "Python 3 (ipykernel)",
   "language": "python",
   "name": "python3"
  },
  "language_info": {
   "codemirror_mode": {
    "name": "ipython",
    "version": 3
   },
   "file_extension": ".py",
   "mimetype": "text/x-python",
   "name": "python",
   "nbconvert_exporter": "python",
   "pygments_lexer": "ipython3",
   "version": "3.12.4"
  }
 },
 "nbformat": 4,
 "nbformat_minor": 4
}
